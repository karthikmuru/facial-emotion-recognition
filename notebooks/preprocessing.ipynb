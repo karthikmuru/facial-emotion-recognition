{
 "metadata": {
  "language_info": {
   "codemirror_mode": {
    "name": "ipython",
    "version": 3
   },
   "file_extension": ".py",
   "mimetype": "text/x-python",
   "name": "python",
   "nbconvert_exporter": "python",
   "pygments_lexer": "ipython3",
   "version": "3.7.7"
  },
  "orig_nbformat": 2,
  "kernelspec": {
   "name": "python377jvsc74a57bd0f0b5b38d75dca1f293664886e0c0dc9c864460d28e0a67f75e98718f6acdfd53",
   "display_name": "Python 3.7.7 64-bit ('FER_env')"
  },
  "metadata": {
   "interpreter": {
    "hash": "f0b5b38d75dca1f293664886e0c0dc9c864460d28e0a67f75e98718f6acdfd53"
   }
  }
 },
 "nbformat": 4,
 "nbformat_minor": 2,
 "cells": [
  {
   "source": [
    "### KDEF dataset preprocessing \n",
    "\n",
    "#### Original dataset folder structure: \n",
    "The original dataset is organised in the following way.<br>\n",
    "Example folder structure : KDEF/AM02/AM02SUFL.JPG \n",
    "\n",
    "AM02SUFL.JPG <br>\n",
    "**Letter 1**: Session <br>\n",
    "A = series one <br>\n",
    "B = series two <br>\n",
    "\n",
    "**Letter 2**: Gender<br>\n",
    "F = female<br>\n",
    "M = male<br>\n",
    "\n",
    "**Letter 3 & 4**: Identity number<br>\n",
    "01 - 35<br>\n",
    "\n",
    "**Letter 5 & 6**: Expression<br>\n",
    "AF = afraid<br>\n",
    "AN = angry<br>\n",
    "DI = disgusted<br>\n",
    "HA = happy<br>\n",
    "NE = neutral<br>\n",
    "SA = sad<br>\n",
    "SU = surprised<br>\n",
    "\n",
    "**Letter 7 & 8**: Angle<br>\n",
    "FL = full left profile<br>\n",
    "HL = half left profile<br>\n",
    "S = straight<br>\n",
    "HR = half right profile<br>\n",
    "FR = full right profile\n",
    "\n",
    "#### Folder structure needed:\n",
    "We need to group the pictures by its emotion class. <br>\n",
    "\n",
    "**KDEF_aug**/<br>\n",
    "Afraid<br>\n",
    "Angry<br>\n",
    "Disgusted<br>\n",
    "Happy<br>\n",
    "Neutral<br>\n",
    "Sad<br>\n",
    "Surprised<br>\n",
    "\n",
    "Also, we need to convert the images to a square shape of constant dimensions(326x326) so that its compatible with the InceptionV3 model."
   ],
   "cell_type": "markdown",
   "metadata": {}
  },
  {
   "cell_type": "code",
   "execution_count": 3,
   "metadata": {},
   "outputs": [],
   "source": [
    "import os\n",
    "import matplotlib.pyplot as plt\n",
    "import matplotlib.image as mpim\n",
    "from shutil import copyfile\n",
    "import imageio\n",
    "import imgaug as ia\n",
    "import imgaug.augmenters as iaa\n",
    "import numpy as np\n",
    "import pandas as pd\n",
    "import matplotlib.pyplot as plt\n",
    "import matplotlib.patches as patches\n",
    "import matplotlib\n",
    "%matplotlib inline"
   ]
  },
  {
   "cell_type": "code",
   "execution_count": 5,
   "metadata": {},
   "outputs": [],
   "source": [
    "kdef_path = './KDEF'\n",
    "kdef_aug_path = './KDEF_aug'\n",
    "\n",
    "emotions = {\n",
    "    \"AF\": \"Afraid\",\n",
    "    \"AN\": \"Angry\",\n",
    "    \"DI\": \"Disgusted\",\n",
    "    \"HA\": \"Happy\",\n",
    "    \"NE\": \"Neutral\",\n",
    "    \"SA\": \"Sad\",\n",
    "    \"SU\": \"Surprised\"\n",
    "}"
   ]
  },
  {
   "cell_type": "code",
   "execution_count": 12,
   "metadata": {},
   "outputs": [],
   "source": [
    "# Creating a folder for each class\n",
    "for emotion in list(emotions.values()):\n",
    "    os.mkdir(os.path.join(kdef_aug_path,emotion))"
   ]
  },
  {
   "cell_type": "code",
   "execution_count": 13,
   "metadata": {},
   "outputs": [],
   "source": [
    "# Crop the image to square and resize it to a 326x326 size image\n",
    "def crop_and_resize(image_path):\n",
    "    image = imageio.imread(image_path)\n",
    "\n",
    "    crop = iaa.CropToSquare()\n",
    "    croped_image = crop.augment_image(image)\n",
    "            \n",
    "    resize = iaa.Resize(326)\n",
    "    resized_image = resize.augment_image(croped_image)\n",
    "\n",
    "    return resized_image\n",
    "\n",
    "# Augmentation by adding Gaussian noise to increase the dataset size\n",
    "def add_gaussian_noise(image):\n",
    "    gaussian_noise=iaa.AdditiveGaussianNoise(10,30)\n",
    "    noise_image=gaussian_noise.augment_image(image)\n",
    "\n",
    "    return noise_image"
   ]
  },
  {
   "source": [
    "**Note**: Then names of the images **AF31V, AM31H** did not comply with the naming scheme of the dataset.<br>\n",
    "So changed their names to the following, after manually observing images with similar emotion. <br>\n",
    "AF31V -> AF31SA<br>\n",
    "AM31H -> AF31SU<br>"
   ],
   "cell_type": "markdown",
   "metadata": {}
  },
  {
   "cell_type": "code",
   "execution_count": null,
   "metadata": {},
   "outputs": [],
   "source": [
    "for f in os.listdir(kdef_path):\n",
    "    folder_path = kdef_path + '/' + f\n",
    "\n",
    "    for image_name in os.listdir(folder_path):\n",
    "        image_path = folder_path + '/' + image_name\n",
    "\n",
    "        try:\n",
    "            e = emotions[image_name[4:6]] # Get emotion class from image name\n",
    "\n",
    "            resized_image = crop_and_resize(image_path)\n",
    "            target_path = kdef_aug_path + '/' + e + '/' + image_name # Construct the path to the new folder\n",
    "            imageio.imsave(target_path, resized_image)\n",
    "\n",
    "            noise_image = add_gaussian_noise(resized_image)\n",
    "            noise_image_name = image_name[:-4] + '_gaus.JPG'\n",
    "            target_path = kdef_aug_path + '/' + e + '/' + noise_image_name # Construct the path to the new folder\n",
    "            imageio.imsave(target_path, noise_image_name)\n",
    "\n",
    "        except Exception as ex:\n",
    "            print(f\"Exception : {image_path} : {ex} \")\n",
    "            continue"
   ]
  },
  {
   "source": [
    "The dataset has been converted to the desired structure.<br>\n",
    "Have also doubled the size of the dataset by adding Gaussian noise to the resized images.<br>\n",
    "\n",
    "Now we can precoeed with the traning."
   ],
   "cell_type": "markdown",
   "metadata": {}
  }
 ]
}